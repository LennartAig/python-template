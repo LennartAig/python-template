{
 "cells": [
  {
   "cell_type": "markdown",
   "metadata": {},
   "source": [
    "# Lamba Functions, filter(), reduce(), map()\n",
    "Lambda functions are a controversial topic and it is open to the developer to decide whether to use them or not.\n",
    "They are most useful in combination with python built in functions 'filter()', 'reduce()' and 'map()'.\n",
    "\n",
    "## Lambda function"
   ]
  },
  {
   "cell_type": "code",
   "execution_count": 1,
   "metadata": {},
   "outputs": [],
   "source": [
    "sum = lambda x, y : x + y"
   ]
  },
  {
   "cell_type": "code",
   "execution_count": 2,
   "metadata": {},
   "outputs": [
    {
     "data": {
      "text/plain": [
       "7"
      ]
     },
     "execution_count": 2,
     "metadata": {},
     "output_type": "execute_result"
    }
   ],
   "source": [
    "sum(3,4)"
   ]
  },
  {
   "cell_type": "markdown",
   "metadata": {},
   "source": [
    "## The map() Function\n",
    "\n",
    "```python\n",
    "result = map(function,sequence)\n",
    "```\n",
    "The result is of type `map`."
   ]
  },
  {
   "cell_type": "code",
   "execution_count": 6,
   "metadata": {},
   "outputs": [
    {
     "name": "stdout",
     "output_type": "stream",
     "text": [
      "[97.7, 98.60000000000001, 99.5, 100.4, 102.2]\n",
      "[97.7, 98.60000000000001, 99.5, 100.4, 102.2]\n"
     ]
    }
   ],
   "source": [
    "def fahrenheit(T):\n",
    "    return ((float(9)/5)*T + 32)\n",
    "\n",
    "temperatures = (36.5, 37, 37.5, 38, 39)\n",
    "\n",
    "F = map(fahrenheit, temperatures)\n",
    "\n",
    "print(list(F))\n",
    "\n",
    "F = list(map(lambda x: (float(9)/5)*x + 32, temperatures))\n",
    "print(F)"
   ]
  },
  {
   "cell_type": "markdown",
   "metadata": {},
   "source": [
    "## The filter() Function\n",
    "offers an elegant way to filter out all the elements of a sequence \"sequence\", for which the function function returns True. i.e. an item will be produced by the iterator result of filter(function, sequence) if item is included in the sequence \"sequence\" and if function(item) returns True\n",
    "\n",
    "```python\n",
    "filter(function, sequence)\n",
    "```\n"
   ]
  },
  {
   "cell_type": "code",
   "execution_count": 16,
   "metadata": {},
   "outputs": [
    {
     "name": "stdout",
     "output_type": "stream",
     "text": [
      "Odd numbers: [1, 3, 5, 7, 9] \n",
      "Even numbers: [0, 2, 4, 6, 8]\n"
     ]
    }
   ],
   "source": [
    "odd_numbers = list(filter(lambda x: x % 2, range(10)))\n",
    "even_numbers = list(filter(lambda x: x % 2 == 0, range(10)))\n",
    "\n",
    "print(f\"Odd numbers: {odd_numbers} \\nEven numbers: {even_numbers}\")"
   ]
  },
  {
   "cell_type": "markdown",
   "metadata": {},
   "source": [
    "## The reduce() Function\n",
    "The function \n",
    "```python\n",
    "result = reduce(function,sequence)\n",
    "```\n",
    "continually applies the function to the sequence and returns a single value. E.g. for a function with 3 inputs applied to a sequence with 3 elements:\n",
    "```python\n",
    "result = func(func(seq[0],seq[1]), seq[2])\n",
    "```\n"
   ]
  },
  {
   "cell_type": "code",
   "execution_count": 17,
   "metadata": {},
   "outputs": [
    {
     "name": "stdout",
     "output_type": "stream",
     "text": [
      "Numbers: [47, 11, 42, 102, 13] \n",
      "Largest number: 102 \n",
      "sum: 215\n"
     ]
    }
   ],
   "source": [
    "from functools import reduce\n",
    "nums = [47,11,42,102,13]\n",
    "f = lambda a,b: a if (a > b) else b\n",
    "largest_num = reduce(f, nums)\n",
    "sum = reduce(lambda x,y: x+y, nums)\n",
    "print(f\"Numbers: {nums} \\nLargest number: {largest_num} \\nsum: {sum}\")"
   ]
  },
  {
   "cell_type": "code",
   "execution_count": null,
   "metadata": {},
   "outputs": [],
   "source": []
  }
 ],
 "metadata": {
  "interpreter": {
   "hash": "590268f35521de69d98a06401f10be0dfec50bce950331d076c122824175b9e9"
  },
  "kernelspec": {
   "display_name": "Python 3.8.5 ('python-template-WKtUHnLy-py3.8')",
   "language": "python",
   "name": "python3"
  },
  "language_info": {
   "codemirror_mode": {
    "name": "ipython",
    "version": 3
   },
   "file_extension": ".py",
   "mimetype": "text/x-python",
   "name": "python",
   "nbconvert_exporter": "python",
   "pygments_lexer": "ipython3",
   "version": "3.8.5"
  },
  "orig_nbformat": 4
 },
 "nbformat": 4,
 "nbformat_minor": 2
}
